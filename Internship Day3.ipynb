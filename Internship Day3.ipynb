{
 "cells": [
  {
   "cell_type": "code",
   "execution_count": 16,
   "id": "b242a5dd",
   "metadata": {},
   "outputs": [
    {
     "name": "stdout",
     "output_type": "stream",
     "text": [
      "please enter the rollno.AP19110010016\n",
      "CSE department\n"
     ]
    }
   ],
   "source": [
    "# write a progrm to print the department using the last 3 elements of the roll no.\n",
    "\n",
    "roll=input(\"please enter the rollno.\") # taking the roll no. input \n",
    "if roll[-3:].startswith('01'):\n",
    "    print(\"CSE department\")            # condition to check whether last 3 elements start with 01; CSE department.\n",
    "elif roll[-3:].startswith('11'):\n",
    "    print(\"ECE department\")           # condition to check whether last 3 elements start with 11; ECE department.\n",
    "elif roll[-3:].startswith('21'):\n",
    "    print(\"Mech department\")          # condition to check whether last 3 elements start with 21; Mech department\n",
    "else:\n",
    "    print('Rollno. donot belong to SRM University')   # If last 3 elements dont start with any of the prefix, then invalid rollno."
   ]
  },
  {
   "cell_type": "code",
   "execution_count": 15,
   "id": "6d4ef4c5",
   "metadata": {},
   "outputs": [
    {
     "name": "stdout",
     "output_type": "stream",
     "text": [
      "Enter the number9\n",
      "9 X 1 = 9\n",
      "9 X 2 = 18\n",
      "9 X 3 = 27\n",
      "9 X 4 = 36\n",
      "9 X 5 = 45\n",
      "9 X 6 = 54\n",
      "9 X 7 = 63\n",
      "9 X 8 = 72\n",
      "9 X 9 = 81\n",
      "9 X 10 = 90\n"
     ]
    }
   ],
   "source": [
    "# program to write the table for the number given by the user.\n",
    "n= int(input(\"Enter the number\"))\n",
    "for i in range(1,11):\n",
    "    print(n,\"X\",i,\"=\",n*(i))"
   ]
  },
  {
   "cell_type": "code",
   "execution_count": null,
   "id": "aa47d945",
   "metadata": {},
   "outputs": [],
   "source": []
  }
 ],
 "metadata": {
  "kernelspec": {
   "display_name": "Python 3",
   "language": "python",
   "name": "python3"
  },
  "language_info": {
   "codemirror_mode": {
    "name": "ipython",
    "version": 3
   },
   "file_extension": ".py",
   "mimetype": "text/x-python",
   "name": "python",
   "nbconvert_exporter": "python",
   "pygments_lexer": "ipython3",
   "version": "3.8.8"
  }
 },
 "nbformat": 4,
 "nbformat_minor": 5
}
