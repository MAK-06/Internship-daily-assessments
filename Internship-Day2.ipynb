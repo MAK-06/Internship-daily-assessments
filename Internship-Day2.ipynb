{
 "cells": [
  {
   "cell_type": "code",
   "execution_count": 3,
   "id": "f5167058",
   "metadata": {},
   "outputs": [
    {
     "name": "stdout",
     "output_type": "stream",
     "text": [
      "What is the age of the user ?18\n",
      "The user is eligable to vote\n"
     ]
    }
   ],
   "source": [
    "# program to find whether a user is eligible to vote or not.\n",
    "\n",
    "a= int(input(\"What is the age of the user ?\")) # here with we wrote the conditions to check if the user is eligible to vote or not.\n",
    "if a>=18:\n",
    "    print(\"The user is eligable to vote\")\n",
    "else:\n",
    "    print(\"The user is not eligible to vote\")"
   ]
  },
  {
   "cell_type": "code",
   "execution_count": 8,
   "id": "8eecdac8",
   "metadata": {},
   "outputs": [
    {
     "name": "stdout",
     "output_type": "stream",
     "text": [
      "Enter the number-9\n",
      "The number  -9.0  is a negative number.\n"
     ]
    }
   ],
   "source": [
    "# program to find whether a number is negative or positive.\n",
    "\n",
    "n= float(input(\"Enter the number\"))\n",
    "if n>0:\n",
    "        print(\"The number \",n,\" is a positive number.\")\n",
    "        \n",
    "elif n==0:\n",
    "    print(\"The number \",n,\" is zero.\")\n",
    "elif n<0:\n",
    "    print(\"The number \",n,\" is a negative number.\")\n",
    "else:\n",
    "    print(\"The given input is invalid, please try again.\")\n",
    "    "
   ]
  },
  {
   "cell_type": "code",
   "execution_count": 7,
   "id": "decf11ed",
   "metadata": {},
   "outputs": [
    {
     "name": "stdout",
     "output_type": "stream",
     "text": [
      "Enter the number88\n",
      "Yes, the number 88 is even number and is divisible by 4\n"
     ]
    }
   ],
   "source": [
    "# program to check if a given number is even or odd, and if even whether divisible by 4 or not\n",
    "\n",
    "n=int(input(\"Enter the number\"))\n",
    "if n%2==0:\n",
    "    if n%4==0:\n",
    "        print(\"Yes, the number\",n,\"is even number and is divisible by 4\")\n",
    "    else:\n",
    "        print(\"The number\",n,\"is even number but not divisible by 4\")\n",
    "        \n",
    "else:\n",
    "    print(\"The number\",n,\"is odd number\")"
   ]
  },
  {
   "cell_type": "code",
   "execution_count": 10,
   "id": "48c17505",
   "metadata": {},
   "outputs": [
    {
     "name": "stdout",
     "output_type": "stream",
     "text": [
      "Enter the percentage78\n",
      "The student has got passed.\n"
     ]
    }
   ],
   "source": [
    "# program to check the grade of the student based on the percentage scored.\n",
    "\n",
    "n= float(input(\"Enter the percentage\"))\n",
    "\n",
    "if n>=90:\n",
    "        print(\"The student has got Distinction.\")\n",
    "elif n>=60:\n",
    "        print(\"The student has got passed.\")\n",
    "elif n<=59:\n",
    "        print(\"The student has got Failed.\")\n",
    "        \n",
    "else:\n",
    "    print(\"Invalid input given.\")\n",
    "\n"
   ]
  },
  {
   "cell_type": "code",
   "execution_count": 5,
   "id": "5a9b5c09",
   "metadata": {},
   "outputs": [
    {
     "name": "stdout",
     "output_type": "stream",
     "text": [
      "Enter the year2100\n",
      "The given year  2100  is not a leap year\n"
     ]
    }
   ],
   "source": [
    "# program to find whether an year is a leap year or not.\n",
    "\n",
    "n= int(input(\"Enter the year\"))\n",
    "\n",
    "if n%4==0:\n",
    "       \n",
    "    if n%100==0:\n",
    "        if n%400==0:\n",
    "                print(\"The given year \",n,\" is a leap year\")\n",
    "        else:\n",
    "                print(\"The given year \",n,\" is not a leap year\")\n",
    "    else:\n",
    "        print(\"The given year \",n,\" is not a leap year\")\n",
    "        \n",
    "        \n",
    "            \n",
    "                \n",
    "        \n",
    "else:\n",
    "    print(\"The given year \",n,\" is not a leap year\")"
   ]
  },
  {
   "cell_type": "code",
   "execution_count": null,
   "id": "cf194abf",
   "metadata": {},
   "outputs": [],
   "source": []
  }
 ],
 "metadata": {
  "kernelspec": {
   "display_name": "Python 3",
   "language": "python",
   "name": "python3"
  },
  "language_info": {
   "codemirror_mode": {
    "name": "ipython",
    "version": 3
   },
   "file_extension": ".py",
   "mimetype": "text/x-python",
   "name": "python",
   "nbconvert_exporter": "python",
   "pygments_lexer": "ipython3",
   "version": "3.8.8"
  }
 },
 "nbformat": 4,
 "nbformat_minor": 5
}
